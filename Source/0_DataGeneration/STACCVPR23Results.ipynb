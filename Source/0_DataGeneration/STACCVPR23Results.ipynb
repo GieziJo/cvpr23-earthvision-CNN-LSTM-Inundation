{
 "cells": [
  {
   "cell_type": "code",
   "execution_count": 6,
   "id": "bd032238-7e2c-4e7d-860e-5ed8c818d346",
   "metadata": {
    "tags": []
   },
   "outputs": [],
   "source": [
    "from datetime import datetime\n",
    "from datetime import date"
   ]
  },
  {
   "cell_type": "code",
   "execution_count": 7,
   "id": "43785806-5c93-4851-b652-f24447f572c5",
   "metadata": {
    "tags": []
   },
   "outputs": [],
   "source": [
    "import rasterio\n",
    "from shapely.geometry import Polygon, mapping"
   ]
  },
  {
   "cell_type": "code",
   "execution_count": 8,
   "id": "8315815a-12d1-4aa6-b2f7-41d798ea3f8d",
   "metadata": {
    "tags": []
   },
   "outputs": [],
   "source": [
    "import pystac\n",
    "from pystac.extensions.eo import Band, EOExtension"
   ]
  },
  {
   "cell_type": "code",
   "execution_count": 9,
   "id": "6b41424d-d67f-495a-ad12-4148ed6633fa",
   "metadata": {
    "tags": []
   },
   "outputs": [],
   "source": [
    "from pathlib import Path\n",
    "from py_linq import Enumerable\n",
    "import json"
   ]
  },
  {
   "cell_type": "code",
   "execution_count": 11,
   "id": "3b6ab76d-8e99-403a-8365-d781ed505403",
   "metadata": {
    "tags": []
   },
   "outputs": [],
   "source": [
    "import numpy as np\n",
    "import pandas as pd"
   ]
  },
  {
   "cell_type": "code",
   "execution_count": 13,
   "id": "1ea315ea-2728-406b-b67a-79a4f88ade61",
   "metadata": {
    "tags": []
   },
   "outputs": [],
   "source": [
    "# import ee"
   ]
  },
  {
   "cell_type": "code",
   "execution_count": 14,
   "id": "c0fcf68c-14de-4f2c-9f60-abe77dca5bf1",
   "metadata": {
    "tags": []
   },
   "outputs": [],
   "source": [
    "# ee.Authenticate()"
   ]
  },
  {
   "cell_type": "code",
   "execution_count": 15,
   "id": "be1828a3-759b-456a-a561-f32ff15dd740",
   "metadata": {
    "tags": []
   },
   "outputs": [],
   "source": [
    "# ee.Initialize()"
   ]
  },
  {
   "cell_type": "code",
   "execution_count": 16,
   "id": "7e13491d-058b-4fa8-8bbd-ef43ea1baf5a",
   "metadata": {
    "tags": []
   },
   "outputs": [],
   "source": [
    "Path.lsTif = lambda x: Enumerable(x.iterdir()).where(lambda p: p.suffix == '.tiff').to_list()\n",
    "Path.lsTifName = lambda x: Enumerable(x.iterdir()).where(lambda p: p.suffix == '.tif').select(lambda p: p.name).to_list()\n",
    "Path.lsTifStem = lambda x: Enumerable(x.iterdir()).where(lambda p: p.suffix == '.tif').select(lambda p: p.stem).to_list()"
   ]
  },
  {
   "cell_type": "code",
   "execution_count": null,
   "id": "49b72a90-d63c-4c1d-b8bc-be047aa55e39",
   "metadata": {},
   "outputs": [],
   "source": []
  },
  {
   "cell_type": "code",
   "execution_count": 57,
   "id": "a43b5836-d7ab-44d7-b765-6804e6168c89",
   "metadata": {
    "tags": []
   },
   "outputs": [],
   "source": [
    "rootPath = Path('//mule.sbs.arizona.edu/')/'btellman'/'Projects'/'NASA'/'NIP'/'Data'/'Raster'/'CVPR23'/'CVPR23FractionalInundationHistoryData'"
   ]
  },
  {
   "cell_type": "code",
   "execution_count": 58,
   "id": "96aaf18d-772b-4687-9931-81fc86559c67",
   "metadata": {
    "tags": []
   },
   "outputs": [],
   "source": [
    "fractionInundatedFolder = 'CVPR23FractionalInundationHistory'"
   ]
  },
  {
   "cell_type": "markdown",
   "id": "d0226f1d-438d-4530-869f-1d3afbe6e807",
   "metadata": {},
   "source": [
    "### Create STAC"
   ]
  },
  {
   "cell_type": "code",
   "execution_count": 59,
   "id": "4ceeb482-fa8d-48c0-9c1a-c12348360144",
   "metadata": {
    "tags": []
   },
   "outputs": [],
   "source": [
    "def get_bbox_and_footprint(ds):\n",
    "    bounds = ds.bounds\n",
    "    bbox = [bounds.left, bounds.bottom, bounds.right, bounds.top]\n",
    "    footprint = Polygon([\n",
    "        [bounds.left, bounds.bottom],\n",
    "        [bounds.left, bounds.top],\n",
    "        [bounds.right, bounds.top],\n",
    "        [bounds.right, bounds.bottom]\n",
    "    ])\n",
    "\n",
    "    return (bbox, mapping(footprint))"
   ]
  },
  {
   "cell_type": "code",
   "execution_count": null,
   "id": "0b3d6f6b-2299-4832-9dfd-f4b841e0b2a5",
   "metadata": {},
   "outputs": [],
   "source": []
  },
  {
   "cell_type": "code",
   "execution_count": null,
   "id": "cf998e1e-13a9-4b34-be63-a62a0ed872cc",
   "metadata": {},
   "outputs": [],
   "source": []
  },
  {
   "cell_type": "code",
   "execution_count": 60,
   "id": "38b2a5d8-49ab-4231-8faf-6eec3a61abc9",
   "metadata": {
    "tags": []
   },
   "outputs": [],
   "source": [
    "dataPath = rootPath/fractionInundatedFolder\n",
    "stacPath = rootPath/(fractionInundatedFolder+'STAC')"
   ]
  },
  {
   "cell_type": "code",
   "execution_count": null,
   "id": "de89f9d3-8e97-4e6f-baf7-bb2bb6f10812",
   "metadata": {},
   "outputs": [],
   "source": []
  },
  {
   "cell_type": "code",
   "execution_count": 61,
   "id": "74b60015-94b6-49e7-924e-53f3761715b2",
   "metadata": {
    "tags": []
   },
   "outputs": [],
   "source": [
    "if False:\n",
    "    df_modisInfo = MODISDFGenerator.getMODISDF(getParial=False)\n",
    "    df_modisInfo.drop(columns=['index'], inplace=True)\n",
    "    df_modisInfo.set_index('Name', inplace=True)\n",
    "    times = [index.split('_')[2] for index in df_modisInfo.index]\n",
    "\n",
    "    df_modisInfoTimes = pd.DataFrame()\n",
    "    df_modisInfoTimes['Time'] = times\n",
    "    df_modisInfoTimes['Date'] = df_modisInfo.Date.values\n",
    "    df_modisInfoTimes['StartDate'] = df_modisInfo.StartDate.values\n",
    "    df_modisInfoTimes['EndDate'] = df_modisInfo.EndDate.values\n",
    "    df_modisInfoTimes.drop_duplicates(inplace=True)\n",
    "\n",
    "    del df_modisInfo\n",
    "    del times\n",
    "\n",
    "    df_modisInfoTimes.to_csv('MODISInfo.csv', index=False)\n",
    "else:\n",
    "    df_modisInfoTimes = pd.read_csv('MODISInfo.csv')"
   ]
  },
  {
   "cell_type": "code",
   "execution_count": null,
   "id": "c5b21199-e186-4d8f-846a-5f25a81b9ea4",
   "metadata": {
    "tags": []
   },
   "outputs": [],
   "source": []
  },
  {
   "cell_type": "code",
   "execution_count": null,
   "id": "ab5b2d3e-a1e3-409b-814d-316998e01e6e",
   "metadata": {},
   "outputs": [],
   "source": []
  },
  {
   "cell_type": "code",
   "execution_count": null,
   "id": "7ad2a962-7596-42fc-852f-d44b898bb945",
   "metadata": {},
   "outputs": [],
   "source": []
  },
  {
   "cell_type": "code",
   "execution_count": 66,
   "id": "efaa86bc-ef2c-4968-897a-23e01fa9890b",
   "metadata": {
    "tags": []
   },
   "outputs": [],
   "source": [
    "filePath = dataPath.lsTif()[0]\n",
    "with rasterio.open(filePath) as ds:\n",
    "    bbox_footprints = get_bbox_and_footprint(ds)"
   ]
  },
  {
   "cell_type": "code",
   "execution_count": null,
   "id": "d791c16b-a99a-4964-a901-f31d820fcf6b",
   "metadata": {},
   "outputs": [],
   "source": []
  },
  {
   "cell_type": "code",
   "execution_count": null,
   "id": "972c3179-361a-40c9-af87-f5fe523ab947",
   "metadata": {},
   "outputs": [],
   "source": []
  },
  {
   "cell_type": "code",
   "execution_count": null,
   "id": "2a9b0ff9-82c6-4cbe-9e4b-c04e63659d8e",
   "metadata": {},
   "outputs": [],
   "source": []
  },
  {
   "cell_type": "code",
   "execution_count": 67,
   "id": "c2d28289-8351-449a-b82d-88d1d9927067",
   "metadata": {
    "tags": []
   },
   "outputs": [],
   "source": [
    "sen1_bands =  [\n",
    "    Band.create(name='b1', description='Fractional Inundated Area')\n",
    "]"
   ]
  },
  {
   "cell_type": "code",
   "execution_count": 70,
   "id": "94815834-03f0-4b77-8869-b271184188c1",
   "metadata": {
    "tags": []
   },
   "outputs": [],
   "source": [
    "def getDateFromTimeStamp(timeStamp):\n",
    "    return datetime.datetime.fromtimestamp(timeStamp / 1000.0, tz=datetime.timezone.utc)"
   ]
  },
  {
   "cell_type": "code",
   "execution_count": 72,
   "id": "c3f9ba83-cbb2-4c10-9bdc-7947c861743a",
   "metadata": {
    "tags": []
   },
   "outputs": [],
   "source": [
    "def getWaterItem(raster_uri):\n",
    "    idx = raster_uri.stem\n",
    "    \n",
    "    modisInfo = df_modisInfoTimes[df_modisInfoTimes.Time == idx]\n",
    "    \n",
    "    bbox, footprint = bbox_footprints\n",
    "    \n",
    "    date = getDateFromTimeStamp(int(idx))\n",
    "    startDate = getDateFromTimeStamp(int(modisInfo.StartDate.values[0]))\n",
    "    endDate = getDateFromTimeStamp(int(modisInfo.EndDate.values[0]))\n",
    "        \n",
    "    item = pystac.Item(\n",
    "        id=idx,\n",
    "        geometry=footprint,\n",
    "        bbox=bbox,\n",
    "        stac_extensions=['https://stac-extensions.github.io/projection/v1.0.0/schema.json'],\n",
    "        datetime=date,\n",
    "        start_datetime=startDate,\n",
    "        end_datetime=endDate,\n",
    "        properties=dict(\n",
    "            tile='FractionalInundatedArea_' + idx\n",
    "        )\n",
    "    )\n",
    "    \n",
    "    item.common_metadata.gsd = 500\n",
    "    \n",
    "    eo = EOExtension.ext(item, add_if_missing=True)\n",
    "    eo.apply(bands=sen1_bands)\n",
    "    \n",
    "    item.add_asset(\n",
    "        key='FractionalInundatedArea',\n",
    "        asset=pystac.Asset(\n",
    "            title='Fractional Inundated Area',\n",
    "            href= raster_uri.as_posix(),\n",
    "            media_type=pystac.MediaType.GEOTIFF\n",
    "        )\n",
    "    )\n",
    "    return item"
   ]
  },
  {
   "cell_type": "code",
   "execution_count": null,
   "id": "f2a6fe2a-51a4-46db-8955-4414924f43b2",
   "metadata": {},
   "outputs": [],
   "source": []
  },
  {
   "cell_type": "code",
   "execution_count": null,
   "id": "ce573475-b917-47ec-91b8-3719b4409d19",
   "metadata": {},
   "outputs": [],
   "source": []
  },
  {
   "cell_type": "code",
   "execution_count": 65,
   "id": "c4815351-c1ab-4f50-8e52-7e4c2492eabe",
   "metadata": {
    "tags": []
   },
   "outputs": [
    {
     "ename": "NameError",
     "evalue": "name 'GEEHelpers' is not defined",
     "output_type": "error",
     "traceback": [
      "\u001b[1;31m---------------------------------------------------------------------------\u001b[0m",
      "\u001b[1;31mNameError\u001b[0m                                 Traceback (most recent call last)",
      "Cell \u001b[1;32mIn[65], line 8\u001b[0m\n\u001b[0;32m      6\u001b[0m modisTimeSeriesCollection\u001b[38;5;241m.\u001b[39mcatalog \u001b[38;5;241m=\u001b[39m catalog\n\u001b[0;32m      7\u001b[0m \u001b[38;5;28;01mfor\u001b[39;00m file \u001b[38;5;129;01min\u001b[39;00m modisFiles:\n\u001b[1;32m----> 8\u001b[0m     item \u001b[38;5;241m=\u001b[39m \u001b[43mgetWaterItem\u001b[49m\u001b[43m(\u001b[49m\u001b[43mfile\u001b[49m\u001b[43m)\u001b[49m\n\u001b[0;32m      9\u001b[0m     item\u001b[38;5;241m.\u001b[39mcollection \u001b[38;5;241m=\u001b[39m modisTimeSeriesCollection\n\u001b[0;32m     10\u001b[0m     modisTimeSeriesCollection\u001b[38;5;241m.\u001b[39madd_item(item)\n",
      "Cell \u001b[1;32mIn[64], line 8\u001b[0m, in \u001b[0;36mgetWaterItem\u001b[1;34m(raster_uri)\u001b[0m\n\u001b[0;32m      4\u001b[0m modisInfo \u001b[38;5;241m=\u001b[39m df_modisInfoTimes[df_modisInfoTimes\u001b[38;5;241m.\u001b[39mTime \u001b[38;5;241m==\u001b[39m idx]\n\u001b[0;32m      6\u001b[0m bbox, footprint \u001b[38;5;241m=\u001b[39m bbox_footprints\n\u001b[1;32m----> 8\u001b[0m date \u001b[38;5;241m=\u001b[39m \u001b[43mGEEHelpers\u001b[49m\u001b[38;5;241m.\u001b[39mGetDateFromGEETimeStamp(\u001b[38;5;28mint\u001b[39m(idx))\n\u001b[0;32m      9\u001b[0m startDate \u001b[38;5;241m=\u001b[39m GEEHelpers\u001b[38;5;241m.\u001b[39mGetDateFromGEETimeStamp(\u001b[38;5;28mint\u001b[39m(modisInfo\u001b[38;5;241m.\u001b[39mStartDate\u001b[38;5;241m.\u001b[39mvalues[\u001b[38;5;241m0\u001b[39m]))\n\u001b[0;32m     10\u001b[0m endDate \u001b[38;5;241m=\u001b[39m GEEHelpers\u001b[38;5;241m.\u001b[39mGetDateFromGEETimeStamp(\u001b[38;5;28mint\u001b[39m(modisInfo\u001b[38;5;241m.\u001b[39mEndDate\u001b[38;5;241m.\u001b[39mvalues[\u001b[38;5;241m0\u001b[39m]))\n",
      "\u001b[1;31mNameError\u001b[0m: name 'GEEHelpers' is not defined"
     ]
    }
   ],
   "source": [
    "\n",
    "\n",
    "catalog = pystac.Catalog(id='Bangladesh Historical Fractional Inundated Area', description='STAC catalog for Bangladesh Historical Fractional Inundated Area Dataset')\n",
    "\n",
    "modisFiles = dataPath.lsTif()\n",
    "\n",
    "modisTimeSeriesCollection = pystac.Collection(id=\"FractionalInundationHistory_ts\", title='Fractional Inundation History Time Series', description='Bangladesh Historical Fractional Inundated Area Dataset', extent=bbox_footprints)\n",
    "modisTimeSeriesCollection.catalog = catalog\n",
    "for file in modisFiles:\n",
    "    item = getWaterItem(file)\n",
    "    item.collection = modisTimeSeriesCollection\n",
    "    modisTimeSeriesCollection.add_item(item)\n",
    "\n",
    "modisTimeSeriesCollection.update_extent_from_items()\n",
    "\n",
    "\n",
    "catalog.add_child(modisTimeSeriesCollection)\n",
    "catalog.normalize_hrefs(str(stacPath))\n",
    "catalog.make_all_asset_hrefs_relative()\n",
    "catalog.save(catalog_type=pystac.CatalogType.SELF_CONTAINED)"
   ]
  },
  {
   "cell_type": "code",
   "execution_count": 22,
   "id": "ad66162f-ab34-4b79-a7af-8d1791b47274",
   "metadata": {},
   "outputs": [],
   "source": []
  },
  {
   "cell_type": "code",
   "execution_count": null,
   "id": "72740bf5-56f9-4a21-ac7b-a3f7f5bdf089",
   "metadata": {},
   "outputs": [],
   "source": []
  },
  {
   "cell_type": "code",
   "execution_count": null,
   "id": "1a5cac4a-f32d-45ea-861e-bef2e81e36d9",
   "metadata": {},
   "outputs": [],
   "source": []
  }
 ],
 "metadata": {
  "kernelspec": {
   "display_name": "Python 3 (ipykernel)",
   "language": "python",
   "name": "python3"
  },
  "language_info": {
   "codemirror_mode": {
    "name": "ipython",
    "version": 3
   },
   "file_extension": ".py",
   "mimetype": "text/x-python",
   "name": "python",
   "nbconvert_exporter": "python",
   "pygments_lexer": "ipython3",
   "version": "3.11.3"
  }
 },
 "nbformat": 4,
 "nbformat_minor": 5
}
