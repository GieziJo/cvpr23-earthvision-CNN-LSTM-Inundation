{
 "cells": [
  {
   "cell_type": "code",
   "execution_count": 1,
   "id": "bd032238-7e2c-4e7d-860e-5ed8c818d346",
   "metadata": {
    "tags": []
   },
   "outputs": [],
   "source": [
    "import datetime"
   ]
  },
  {
   "cell_type": "code",
   "execution_count": 2,
   "id": "43785806-5c93-4851-b652-f24447f572c5",
   "metadata": {
    "tags": []
   },
   "outputs": [],
   "source": [
    "import rasterio\n",
    "from shapely.geometry import Polygon, mapping"
   ]
  },
  {
   "cell_type": "code",
   "execution_count": 3,
   "id": "8315815a-12d1-4aa6-b2f7-41d798ea3f8d",
   "metadata": {
    "tags": []
   },
   "outputs": [],
   "source": [
    "import pystac\n",
    "from pystac.extensions.eo import Band, EOExtension"
   ]
  },
  {
   "cell_type": "code",
   "execution_count": 4,
   "id": "6b41424d-d67f-495a-ad12-4148ed6633fa",
   "metadata": {
    "tags": []
   },
   "outputs": [],
   "source": [
    "from pathlib import Path\n",
    "from py_linq import Enumerable\n",
    "import json"
   ]
  },
  {
   "cell_type": "code",
   "execution_count": 5,
   "id": "3b6ab76d-8e99-403a-8365-d781ed505403",
   "metadata": {
    "tags": []
   },
   "outputs": [],
   "source": [
    "import numpy as np\n",
    "import pandas as pd"
   ]
  },
  {
   "cell_type": "code",
   "execution_count": 6,
   "id": "7e13491d-058b-4fa8-8bbd-ef43ea1baf5a",
   "metadata": {
    "tags": []
   },
   "outputs": [],
   "source": [
    "Path.lsTif = lambda x: Enumerable(x.iterdir()).where(lambda p: p.suffix == '.tiff').to_list()\n",
    "Path.lsTifName = lambda x: Enumerable(x.iterdir()).where(lambda p: p.suffix == '.tif').select(lambda p: p.name).to_list()\n",
    "Path.lsTifStem = lambda x: Enumerable(x.iterdir()).where(lambda p: p.suffix == '.tif').select(lambda p: p.stem).to_list()"
   ]
  },
  {
   "cell_type": "markdown",
   "id": "2cf4730a-4fa6-4eec-9359-bab3b6ee3f4a",
   "metadata": {},
   "source": [
    "### Define Root folder and Data folder"
   ]
  },
  {
   "cell_type": "code",
   "execution_count": 7,
   "id": "a43b5836-d7ab-44d7-b765-6804e6168c89",
   "metadata": {
    "tags": []
   },
   "outputs": [],
   "source": [
    "rootPath = Path('//mule.sbs.arizona.edu/')/'btellman'/'Projects'/'NASA'/'NIP'/'Data'/'Raster'/'CVPR23'/'CVPR23FractionalInundationHistoryData'"
   ]
  },
  {
   "cell_type": "code",
   "execution_count": 8,
   "id": "96aaf18d-772b-4687-9931-81fc86559c67",
   "metadata": {
    "tags": []
   },
   "outputs": [],
   "source": [
    "fractionInundatedFolder = 'CVPR23FractionalInundationHistory'"
   ]
  },
  {
   "cell_type": "code",
   "execution_count": 9,
   "id": "38b2a5d8-49ab-4231-8faf-6eec3a61abc9",
   "metadata": {
    "tags": []
   },
   "outputs": [],
   "source": [
    "dataPath = rootPath/fractionInundatedFolder\n",
    "stacPath = rootPath/(fractionInundatedFolder+'STAC')"
   ]
  },
  {
   "cell_type": "markdown",
   "id": "d0226f1d-438d-4530-869f-1d3afbe6e807",
   "metadata": {},
   "source": [
    "### Create STAC"
   ]
  },
  {
   "cell_type": "markdown",
   "id": "698bef26-7896-4298-95b4-944aacf8db34",
   "metadata": {
    "tags": []
   },
   "source": [
    "Define function to extract bounding box and footprint from open tif and do it for one file"
   ]
  },
  {
   "cell_type": "code",
   "execution_count": 10,
   "id": "bcfb0b9c-398f-4aea-9835-48f89e1210e5",
   "metadata": {
    "tags": []
   },
   "outputs": [],
   "source": [
    "def get_bbox_and_footprint(ds):\n",
    "    bounds = ds.bounds\n",
    "    bbox = [bounds.left, bounds.bottom, bounds.right, bounds.top]\n",
    "    footprint = Polygon([\n",
    "        [bounds.left, bounds.bottom],\n",
    "        [bounds.left, bounds.top],\n",
    "        [bounds.right, bounds.top],\n",
    "        [bounds.right, bounds.bottom]\n",
    "    ])\n",
    "\n",
    "    return (bbox, mapping(footprint))"
   ]
  },
  {
   "cell_type": "code",
   "execution_count": 11,
   "id": "efaa86bc-ef2c-4968-897a-23e01fa9890b",
   "metadata": {
    "tags": []
   },
   "outputs": [],
   "source": [
    "filePath = dataPath.lsTif()[0]\n",
    "with rasterio.open(filePath) as ds:\n",
    "    bbox_footprints = get_bbox_and_footprint(ds)"
   ]
  },
  {
   "cell_type": "markdown",
   "id": "825c8dd6-ccf2-4be2-8075-6a12c2507b70",
   "metadata": {},
   "source": [
    "Load the modis info file"
   ]
  },
  {
   "cell_type": "code",
   "execution_count": 12,
   "id": "74b60015-94b6-49e7-924e-53f3761715b2",
   "metadata": {
    "tags": []
   },
   "outputs": [],
   "source": [
    "df_modisInfoTimes = pd.read_csv('MODISInfo.csv')"
   ]
  },
  {
   "cell_type": "markdown",
   "id": "cdad5ab2-5041-4837-b680-3fc218ce0fea",
   "metadata": {},
   "source": [
    "Define band name"
   ]
  },
  {
   "cell_type": "code",
   "execution_count": 13,
   "id": "c2d28289-8351-449a-b82d-88d1d9927067",
   "metadata": {
    "tags": []
   },
   "outputs": [],
   "source": [
    "sen1_bands =  [\n",
    "    Band.create(name='b1', description='Fractional Inundated Area')\n",
    "]"
   ]
  },
  {
   "cell_type": "markdown",
   "id": "32a62333-71f3-47e5-888b-f8f062f7644e",
   "metadata": {},
   "source": [
    "Create function to convert time stamp to date time format"
   ]
  },
  {
   "cell_type": "code",
   "execution_count": 14,
   "id": "94815834-03f0-4b77-8869-b271184188c1",
   "metadata": {
    "tags": []
   },
   "outputs": [],
   "source": [
    "def getDateFromTimeStamp(timeStamp):\n",
    "    return datetime.datetime.fromtimestamp(timeStamp / 1000.0, tz=datetime.timezone.utc)"
   ]
  },
  {
   "cell_type": "markdown",
   "id": "eea83e4d-6e97-42c8-b62e-d777ea537fbc",
   "metadata": {},
   "source": [
    "Get item from raster URI"
   ]
  },
  {
   "cell_type": "code",
   "execution_count": 15,
   "id": "c3f9ba83-cbb2-4c10-9bdc-7947c861743a",
   "metadata": {
    "tags": []
   },
   "outputs": [],
   "source": [
    "def getWaterItem(raster_uri):\n",
    "    # use stem of file as id\n",
    "    idx = raster_uri.stem\n",
    "    \n",
    "    # get modis info from pandas dataframe\n",
    "    modisInfo = df_modisInfoTimes[df_modisInfoTimes.Time == int(idx)]\n",
    "    \n",
    "    # get bbox and footprint\n",
    "    bbox, footprint = bbox_footprints\n",
    "    \n",
    "    # get dates from modisInfo and convert to datetime object\n",
    "    date = getDateFromTimeStamp(int(idx))\n",
    "    startDate = getDateFromTimeStamp(int(modisInfo.StartDate.values[0]))\n",
    "    endDate = getDateFromTimeStamp(int(modisInfo.EndDate.values[0]))\n",
    "    \n",
    "    #create item    \n",
    "    item = pystac.Item(\n",
    "        id=idx,\n",
    "        geometry=footprint,\n",
    "        bbox=bbox,\n",
    "        stac_extensions=['https://stac-extensions.github.io/projection/v1.0.0/schema.json'],\n",
    "        datetime=date,\n",
    "        start_datetime=startDate,\n",
    "        end_datetime=endDate,\n",
    "        properties=dict(\n",
    "            tile='FractionalInundatedArea_' + idx\n",
    "        )\n",
    "    )\n",
    "    \n",
    "    # set resolution\n",
    "    item.common_metadata.gsd = 500\n",
    "    \n",
    "    # apply eo extension\n",
    "    eo = EOExtension.ext(item, add_if_missing=True)\n",
    "    eo.apply(bands=sen1_bands)\n",
    "    \n",
    "    # add asset to item with raster path\n",
    "    item.add_asset(\n",
    "        key='FractionalInundatedArea',\n",
    "        asset=pystac.Asset(\n",
    "            title='Fractional Inundated Area',\n",
    "            href= raster_uri.as_posix(),\n",
    "            media_type=pystac.MediaType.GEOTIFF\n",
    "        )\n",
    "    )\n",
    "    return item"
   ]
  },
  {
   "cell_type": "markdown",
   "id": "fb7f9f80-44da-4c94-a50f-c94ce551c027",
   "metadata": {},
   "source": [
    "Create catalog"
   ]
  },
  {
   "cell_type": "code",
   "execution_count": 16,
   "id": "c4815351-c1ab-4f50-8e52-7e4c2492eabe",
   "metadata": {
    "tags": []
   },
   "outputs": [],
   "source": [
    "# create catalog\n",
    "catalog = pystac.Catalog(id='Bangladesh Historical Fractional Inundated Area', description='STAC catalog for Bangladesh Historical Fractional Inundated Area Dataset')\n",
    "\n",
    "# create modis collection\n",
    "modisTimeSeriesCollection = pystac.Collection(id=\"FractionalInundationHistory_ts\", title='Fractional Inundation History Time Series', description='Bangladesh Historical Fractional Inundated Area Dataset', extent=bbox_footprints)\n",
    "\n",
    "# set the collection's catalog\n",
    "modisTimeSeriesCollection.catalog = catalog\n",
    "\n",
    "# crawl data folder to get all files\n",
    "modisFiles = dataPath.lsTif()\n",
    "\n",
    "# loop over all files\n",
    "for file in modisFiles:\n",
    "    # get item for file\n",
    "    item = getWaterItem(file)\n",
    "    # set the item's collection\n",
    "    item.collection = modisTimeSeriesCollection\n",
    "    # add item to collection\n",
    "    modisTimeSeriesCollection.add_item(item)\n",
    "\n",
    "# update the collection's extent from the items\n",
    "modisTimeSeriesCollection.update_extent_from_items()\n",
    "\n",
    "# add collection to catalogue\n",
    "catalog.add_child(modisTimeSeriesCollection)\n",
    "\n",
    "# normalise all paths relative to stac folder\n",
    "catalog.normalize_hrefs(str(stacPath))\n",
    "# make them all relative\n",
    "catalog.make_all_asset_hrefs_relative()\n",
    "# save catalog\n",
    "catalog.save(catalog_type=pystac.CatalogType.SELF_CONTAINED)"
   ]
  },
  {
   "cell_type": "code",
   "execution_count": null,
   "id": "1a5cac4a-f32d-45ea-861e-bef2e81e36d9",
   "metadata": {},
   "outputs": [],
   "source": []
  }
 ],
 "metadata": {
  "kernelspec": {
   "display_name": "Python 3 (ipykernel)",
   "language": "python",
   "name": "python3"
  },
  "language_info": {
   "codemirror_mode": {
    "name": "ipython",
    "version": 3
   },
   "file_extension": ".py",
   "mimetype": "text/x-python",
   "name": "python",
   "nbconvert_exporter": "python",
   "pygments_lexer": "ipython3",
   "version": "3.11.3"
  }
 },
 "nbformat": 4,
 "nbformat_minor": 5
}
