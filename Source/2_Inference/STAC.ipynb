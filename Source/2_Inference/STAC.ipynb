{
 "cells": [
  {
   "cell_type": "code",
   "execution_count": 1,
   "id": "bd032238-7e2c-4e7d-860e-5ed8c818d346",
   "metadata": {
    "tags": []
   },
   "outputs": [],
   "source": [
    "import datetime"
   ]
  },
  {
   "cell_type": "code",
   "execution_count": 2,
   "id": "43785806-5c93-4851-b652-f24447f572c5",
   "metadata": {
    "tags": []
   },
   "outputs": [],
   "source": [
    "import rasterio\n",
    "from shapely.geometry import Polygon, mapping"
   ]
  },
  {
   "cell_type": "code",
   "execution_count": 3,
   "id": "8315815a-12d1-4aa6-b2f7-41d798ea3f8d",
   "metadata": {
    "tags": []
   },
   "outputs": [],
   "source": [
    "import pystac\n",
    "from pystac.extensions.eo import Band, EOExtension\n",
    "\n",
    "from pystac.extensions.scientific import ScientificExtension\n",
    "from pystac.extensions.scientific import Publication\n",
    "\n",
    "from pystac.provider import Provider\n",
    "from pystac.provider import ProviderRole\n",
    "\n",
    "import pystac.provider \n",
    "\n",
    "from pystac import Provider"
   ]
  },
  {
   "cell_type": "code",
   "execution_count": 4,
   "id": "6b41424d-d67f-495a-ad12-4148ed6633fa",
   "metadata": {
    "tags": []
   },
   "outputs": [],
   "source": [
    "from pathlib import Path\n",
    "from py_linq import Enumerable\n",
    "import json"
   ]
  },
  {
   "cell_type": "code",
   "execution_count": 5,
   "id": "3b6ab76d-8e99-403a-8365-d781ed505403",
   "metadata": {
    "tags": []
   },
   "outputs": [],
   "source": [
    "import numpy as np\n",
    "import pandas as pd"
   ]
  },
  {
   "cell_type": "code",
   "execution_count": 6,
   "id": "7e13491d-058b-4fa8-8bbd-ef43ea1baf5a",
   "metadata": {
    "tags": []
   },
   "outputs": [],
   "source": [
    "Path.lsTif = lambda x: Enumerable(x.iterdir()).where(lambda p: p.suffix == '.tiff').to_list()\n",
    "Path.lsTifName = lambda x: Enumerable(x.iterdir()).where(lambda p: p.suffix == '.tif').select(lambda p: p.name).to_list()\n",
    "Path.lsTifStem = lambda x: Enumerable(x.iterdir()).where(lambda p: p.suffix == '.tif').select(lambda p: p.stem).to_list()"
   ]
  },
  {
   "cell_type": "markdown",
   "id": "2cf4730a-4fa6-4eec-9359-bab3b6ee3f4a",
   "metadata": {},
   "source": [
    "### Define Root folder and Data folder"
   ]
  },
  {
   "cell_type": "code",
   "execution_count": 7,
   "id": "a43b5836-d7ab-44d7-b765-6804e6168c89",
   "metadata": {
    "tags": []
   },
   "outputs": [],
   "source": [
    "rootPath = Path('//mule.sbs.arizona.edu/')/'btellman'/'Projects'/'NASA'/'NIP'/'Data'/'Raster'/'CVPR23'/'CVPR23FractionalInundationHistoryData'"
   ]
  },
  {
   "cell_type": "code",
   "execution_count": 8,
   "id": "96aaf18d-772b-4687-9931-81fc86559c67",
   "metadata": {
    "tags": []
   },
   "outputs": [],
   "source": [
    "fractionInundatedFolder = 'CVPR23FractionalInundationHistory'"
   ]
  },
  {
   "cell_type": "code",
   "execution_count": 9,
   "id": "38b2a5d8-49ab-4231-8faf-6eec3a61abc9",
   "metadata": {
    "tags": []
   },
   "outputs": [],
   "source": [
    "dataPath = rootPath/fractionInundatedFolder\n",
    "stacPath = rootPath/(fractionInundatedFolder+'STAC')"
   ]
  },
  {
   "cell_type": "markdown",
   "id": "d0226f1d-438d-4530-869f-1d3afbe6e807",
   "metadata": {},
   "source": [
    "### Create STAC"
   ]
  },
  {
   "cell_type": "markdown",
   "id": "698bef26-7896-4298-95b4-944aacf8db34",
   "metadata": {
    "tags": []
   },
   "source": [
    "Define function to extract bounding box and footprint from open tif and do it for one file"
   ]
  },
  {
   "cell_type": "code",
   "execution_count": 10,
   "id": "bcfb0b9c-398f-4aea-9835-48f89e1210e5",
   "metadata": {
    "tags": []
   },
   "outputs": [],
   "source": [
    "def get_bbox_and_footprint(ds):\n",
    "    bounds = ds.bounds\n",
    "    bbox = [bounds.left, bounds.bottom, bounds.right, bounds.top]\n",
    "    footprint = Polygon([\n",
    "        [bounds.left, bounds.bottom],\n",
    "        [bounds.left, bounds.top],\n",
    "        [bounds.right, bounds.top],\n",
    "        [bounds.right, bounds.bottom]\n",
    "    ])\n",
    "\n",
    "    return (bbox, mapping(footprint))"
   ]
  },
  {
   "cell_type": "code",
   "execution_count": 11,
   "id": "efaa86bc-ef2c-4968-897a-23e01fa9890b",
   "metadata": {
    "tags": []
   },
   "outputs": [],
   "source": [
    "filePath = dataPath.lsTif()[0]\n",
    "with rasterio.open(filePath) as ds:\n",
    "    bbox_footprints = get_bbox_and_footprint(ds)"
   ]
  },
  {
   "cell_type": "markdown",
   "id": "825c8dd6-ccf2-4be2-8075-6a12c2507b70",
   "metadata": {},
   "source": [
    "Load the modis info file"
   ]
  },
  {
   "cell_type": "code",
   "execution_count": 12,
   "id": "74b60015-94b6-49e7-924e-53f3761715b2",
   "metadata": {
    "tags": []
   },
   "outputs": [],
   "source": [
    "df_modisInfoTimes = pd.read_csv('MODISInfo.csv')"
   ]
  },
  {
   "cell_type": "markdown",
   "id": "cdad5ab2-5041-4837-b680-3fc218ce0fea",
   "metadata": {},
   "source": [
    "Define band name"
   ]
  },
  {
   "cell_type": "code",
   "execution_count": 13,
   "id": "e09a1c55-ce21-49a5-9090-fd7ce8aaa8a9",
   "metadata": {
    "tags": []
   },
   "outputs": [],
   "source": [
    "sen1_bands =  [\n",
    "    Band.create(name='b1', description='Fractional Inundated Area')\n",
    "]"
   ]
  },
  {
   "cell_type": "markdown",
   "id": "f61bf8b3-3ad0-4eb7-a950-c569a36e8fbc",
   "metadata": {
    "tags": []
   },
   "source": [
    "define stac info"
   ]
  },
  {
   "cell_type": "code",
   "execution_count": 14,
   "id": "53eedf36-2460-4c50-8fb5-c77df5b6b058",
   "metadata": {
    "tags": []
   },
   "outputs": [],
   "source": [
    "platform = 'Fusion Model Output'\n",
    "license = 'CC-BY-SA-4.0'\n",
    "items_mission_description = 'This imagery contains the fractional inundated area as inferred from the Fusion model Giezendanner et al. 2023, for the country of Bangladesh, from 2001 to 2022'\n",
    "pub_doi = '10.48550/arXiv.2305.00640'\n",
    "\n",
    "citation = 'Giezendanner, J.; Mukherjee, R.; Purri, M.; Thomas, M.; Mauerman, M.; Islam, A. K. M. S.; Tellman, B. Inferring the Past: A Combined CNN-LSTM Deep Learning Framework to Fuse Satellites for Historical Inundation Mapping. arXiv April 30, 2023. http://arxiv.org/abs/2305.00640'\n",
    "\n",
    "# collection definitions\n",
    "collection_id=\"FractionalInundationHistory_ts\"\n",
    "collection_title='Fractional Inundation History Time Series'\n",
    "collection_description='Bangladesh Historical Fractional Inundated Area Dataset'\n",
    "\n",
    "# top-level catalog definitions\n",
    "catalog_id = 'Bangladesh Historical Fractional Inundated Area'\n",
    "catalog_description = 'STAC catalog for Bangladesh Historical Fractional Inundated Area Dataset'\n",
    "\n",
    "#Provider information\n",
    "provider = Provider(name='Jonathan Giezendanner',\n",
    "                       description=\"Postdoctoral Researcher University of Arizona, Social [Pixel] Lab\",\n",
    "                       roles=[ProviderRole.PRODUCER, ProviderRole.PROCESSOR],\n",
    "                       url='https://www.jgiezendanner.com/')\n",
    "\n",
    "provider_dict = provider.to_dict()\n",
    "\n",
    "contact_email = 'jgiezendanner@arizona.edu'"
   ]
  },
  {
   "cell_type": "markdown",
   "id": "32a62333-71f3-47e5-888b-f8f062f7644e",
   "metadata": {},
   "source": [
    "Create function to convert time stamp to date time format"
   ]
  },
  {
   "cell_type": "code",
   "execution_count": 15,
   "id": "94815834-03f0-4b77-8869-b271184188c1",
   "metadata": {
    "tags": []
   },
   "outputs": [],
   "source": [
    "def getDateFromTimeStamp(timeStamp):\n",
    "    return datetime.datetime.fromtimestamp(timeStamp / 1000.0, tz=datetime.timezone.utc)"
   ]
  },
  {
   "cell_type": "markdown",
   "id": "eea83e4d-6e97-42c8-b62e-d777ea537fbc",
   "metadata": {},
   "source": [
    "Get item from raster URI"
   ]
  },
  {
   "cell_type": "code",
   "execution_count": 19,
   "id": "c3f9ba83-cbb2-4c10-9bdc-7947c861743a",
   "metadata": {
    "tags": []
   },
   "outputs": [],
   "source": [
    "def getWaterItem(raster_uri):\n",
    "    # use stem of file as id\n",
    "    idx = raster_uri.stem\n",
    "    \n",
    "    # get modis info from pandas dataframe\n",
    "    modisInfo = df_modisInfoTimes[df_modisInfoTimes.Time == int(idx)]\n",
    "    \n",
    "    # get bbox and footprint\n",
    "    bbox, footprint = bbox_footprints\n",
    "    \n",
    "    # get dates from modisInfo and convert to datetime object\n",
    "    date = getDateFromTimeStamp(int(idx))\n",
    "    startDate = getDateFromTimeStamp(int(modisInfo.StartDate.values[0]))\n",
    "    endDate = getDateFromTimeStamp(int(modisInfo.EndDate.values[0]))\n",
    "    \n",
    "    #create item    \n",
    "    item = pystac.Item(\n",
    "        id=idx,\n",
    "        geometry=footprint,\n",
    "        bbox=bbox,\n",
    "        stac_extensions=['https://stac-extensions.github.io/projection/v1.0.0/schema.json', 'https://stac-extensions.github.io/scientific/v1.0.0/schema.json'],\n",
    "        datetime=date,\n",
    "        start_datetime=startDate,\n",
    "        end_datetime=endDate,\n",
    "        properties=dict(\n",
    "            tile ='FractionalInundatedArea_' + idx,\n",
    "            gsd = 500,\n",
    "            platform= platform,\n",
    "            license= license,\n",
    "            mission= items_mission_description,\n",
    "            providers= [provider_dict]\n",
    "        )\n",
    "    )\n",
    "    \n",
    "    sci_ext = ScientificExtension.ext(item)\n",
    "    sci_ext.apply(doi=pub_doi, citation=citation)\n",
    "    \n",
    "    # apply eo extension\n",
    "    eo = EOExtension.ext(item, add_if_missing=True)\n",
    "    eo.apply(bands=sen1_bands)\n",
    "    \n",
    "    # add asset to item with raster path\n",
    "    item.add_asset(\n",
    "        key='FractionalInundatedArea',\n",
    "        asset=pystac.Asset(\n",
    "            title='Fractional Inundated Area',\n",
    "            href= raster_uri.as_posix(),\n",
    "            media_type=pystac.MediaType.GEOTIFF\n",
    "        )\n",
    "    )\n",
    "    return item"
   ]
  },
  {
   "cell_type": "markdown",
   "id": "fb7f9f80-44da-4c94-a50f-c94ce551c027",
   "metadata": {},
   "source": [
    "Create catalog"
   ]
  },
  {
   "cell_type": "code",
   "execution_count": 20,
   "id": "c4815351-c1ab-4f50-8e52-7e4c2492eabe",
   "metadata": {
    "tags": []
   },
   "outputs": [],
   "source": [
    "# create catalog\n",
    "catalog = pystac.Catalog(id=catalog_id, description=catalog_description)\n",
    "\n",
    "# create modis collection\n",
    "modisTimeSeriesCollection = pystac.Collection(id=collection_id, title=collection_title, description=collection_description, extent=bbox_footprints)\n",
    "\n",
    "# set the collection's catalog\n",
    "modisTimeSeriesCollection.catalog = catalog\n",
    "\n",
    "# crawl data folder to get all files\n",
    "modisFiles = dataPath.lsTif()\n",
    "\n",
    "# loop over all files\n",
    "for file in modisFiles:\n",
    "    # get item for file\n",
    "    item = getWaterItem(file)\n",
    "    # set the item's collection\n",
    "    item.collection = modisTimeSeriesCollection\n",
    "    # add item to collection\n",
    "    modisTimeSeriesCollection.add_item(item)\n",
    "\n",
    "# update the collection's extent from the items\n",
    "modisTimeSeriesCollection.update_extent_from_items()\n",
    "\n",
    "# add collection to catalogue\n",
    "catalog.add_child(modisTimeSeriesCollection)\n",
    "\n",
    "# normalise all paths relative to stac folder\n",
    "catalog.normalize_hrefs(str(stacPath))\n",
    "# make them all relative\n",
    "catalog.make_all_asset_hrefs_relative()\n",
    "# save catalog\n",
    "catalog.save(catalog_type=pystac.CatalogType.SELF_CONTAINED)"
   ]
  },
  {
   "cell_type": "code",
   "execution_count": null,
   "id": "511b809a-21af-4401-989a-008d040699bf",
   "metadata": {},
   "outputs": [],
   "source": []
  },
  {
   "cell_type": "code",
   "execution_count": null,
   "id": "556892c9-8fa2-4b9a-975c-49cd72352146",
   "metadata": {},
   "outputs": [],
   "source": []
  },
  {
   "cell_type": "code",
   "execution_count": 19,
   "id": "b2aba5bc-6d7f-4b20-8243-09f1468337c0",
   "metadata": {},
   "outputs": [],
   "source": [
    "# #########Combine all of the STAC item metadata into a single geojson and output to directory\n",
    "# ####################\n",
    "\n",
    "# # Create an empty GeoJSON FeatureCollection\n",
    "# geojson = {\n",
    "#     \"type\": \"FeatureCollection\",\n",
    "#     \"features\": []\n",
    "# }\n",
    "\n",
    "# # Iterate through all the items in the collection and convert them to GeoJSON Features\n",
    "# for item in modisTimeSeriesCollection.get_all_items():\n",
    "#     # Get the STAC Item as a dictionary\n",
    "#     item_dict = item.to_dict()\n",
    "\n",
    "#     # Convert the STAC Item to a GeoJSON Feature\n",
    "#     feature = {\n",
    "#         \"type\": \"Feature\",\n",
    "#         \"collection\": item_dict[\"collection\"],\n",
    "#         \"stac_version\": item_dict[\"stac_version\"],\n",
    "#         \"stac_extensions\": item_dict[\"stac_extensions\"],\n",
    "#         \"id\": item_dict[\"id\"],\n",
    "#         \"geometry\": item_dict[\"geometry\"],\n",
    "#         \"bbox\": item_dict[\"bbox\"],\n",
    "#         \"properties\": item_dict[\"properties\"],\n",
    "#         \"assets\": item_dict[\"assets\"]\n",
    "#     }\n",
    "\n",
    "#     # Add the GeoJSON Feature to the FeatureCollection\n",
    "#     geojson[\"features\"].append(feature)\n",
    "\n",
    "\n",
    "# # # Make sure the output_directory ends with a path separator\n",
    "# # if not stac_output_directory.endswith(\"/\"):\n",
    "# #     stac_output_directory += \"/\"\n",
    "\n",
    "# # output_file_path = stac_output_directory + \"index.geojson\"\n",
    "\n",
    "# # # Write the GeoJSON FeatureCollection to a file\n",
    "# # with open(output_file_path, \"w\") as f:\n",
    "# #     json.dump(geojson, f, indent=4)   "
   ]
  },
  {
   "cell_type": "code",
   "execution_count": null,
   "id": "0218186f-2c7d-422e-bda4-6468e39bd5e1",
   "metadata": {},
   "outputs": [],
   "source": []
  }
 ],
 "metadata": {
  "kernelspec": {
   "display_name": "Python 3 (ipykernel)",
   "language": "python",
   "name": "python3"
  },
  "language_info": {
   "codemirror_mode": {
    "name": "ipython",
    "version": 3
   },
   "file_extension": ".py",
   "mimetype": "text/x-python",
   "name": "python",
   "nbconvert_exporter": "python",
   "pygments_lexer": "ipython3",
   "version": "3.11.3"
  }
 },
 "nbformat": 4,
 "nbformat_minor": 5
}
